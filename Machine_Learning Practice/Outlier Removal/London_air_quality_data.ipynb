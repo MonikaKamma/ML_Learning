{
 "cells": [
  {
   "cell_type": "markdown",
   "metadata": {},
   "source": [
    "## London Air Quality data Outlier removal"
   ]
  },
  {
   "cell_type": "markdown",
   "metadata": {},
   "source": [
    "The dataset consists of the hourly mean of Nitric Oxide concentration for the site (CR5-Croydon-Norbury in London). The data collected is of 5 years from 2013 to 2018."
   ]
  },
  {
   "cell_type": "code",
   "execution_count": 1,
   "metadata": {},
   "outputs": [],
   "source": [
    "import pandas as pd"
   ]
  },
  {
   "cell_type": "code",
   "execution_count": 2,
   "metadata": {},
   "outputs": [
    {
     "data": {
      "text/html": [
       "<div>\n",
       "<style scoped>\n",
       "    .dataframe tbody tr th:only-of-type {\n",
       "        vertical-align: middle;\n",
       "    }\n",
       "\n",
       "    .dataframe tbody tr th {\n",
       "        vertical-align: top;\n",
       "    }\n",
       "\n",
       "    .dataframe thead th {\n",
       "        text-align: right;\n",
       "    }\n",
       "</style>\n",
       "<table border=\"1\" class=\"dataframe\">\n",
       "  <thead>\n",
       "    <tr style=\"text-align: right;\">\n",
       "      <th></th>\n",
       "      <th>Site</th>\n",
       "      <th>Species</th>\n",
       "      <th>ReadingDateTime</th>\n",
       "      <th>Value</th>\n",
       "      <th>Units</th>\n",
       "      <th>Provisional or Ratified</th>\n",
       "    </tr>\n",
       "  </thead>\n",
       "  <tbody>\n",
       "    <tr>\n",
       "      <th>0</th>\n",
       "      <td>CR5</td>\n",
       "      <td>NO</td>\n",
       "      <td>01/01/2013 00:00</td>\n",
       "      <td>24.6</td>\n",
       "      <td>ug m-3</td>\n",
       "      <td>R</td>\n",
       "    </tr>\n",
       "    <tr>\n",
       "      <th>1</th>\n",
       "      <td>CR5</td>\n",
       "      <td>NO</td>\n",
       "      <td>01/01/2013 01:00</td>\n",
       "      <td>17.9</td>\n",
       "      <td>ug m-3</td>\n",
       "      <td>R</td>\n",
       "    </tr>\n",
       "    <tr>\n",
       "      <th>2</th>\n",
       "      <td>CR5</td>\n",
       "      <td>NO</td>\n",
       "      <td>01/01/2013 02:00</td>\n",
       "      <td>20.0</td>\n",
       "      <td>ug m-3</td>\n",
       "      <td>R</td>\n",
       "    </tr>\n",
       "    <tr>\n",
       "      <th>3</th>\n",
       "      <td>CR5</td>\n",
       "      <td>NO</td>\n",
       "      <td>01/01/2013 03:00</td>\n",
       "      <td>24.5</td>\n",
       "      <td>ug m-3</td>\n",
       "      <td>R</td>\n",
       "    </tr>\n",
       "    <tr>\n",
       "      <th>4</th>\n",
       "      <td>CR5</td>\n",
       "      <td>NO</td>\n",
       "      <td>01/01/2013 04:00</td>\n",
       "      <td>7.4</td>\n",
       "      <td>ug m-3</td>\n",
       "      <td>R</td>\n",
       "    </tr>\n",
       "  </tbody>\n",
       "</table>\n",
       "</div>"
      ],
      "text/plain": [
       "  Site Species   ReadingDateTime  Value   Units Provisional or Ratified\n",
       "0  CR5      NO  01/01/2013 00:00   24.6  ug m-3                       R\n",
       "1  CR5      NO  01/01/2013 01:00   17.9  ug m-3                       R\n",
       "2  CR5      NO  01/01/2013 02:00   20.0  ug m-3                       R\n",
       "3  CR5      NO  01/01/2013 03:00   24.5  ug m-3                       R\n",
       "4  CR5      NO  01/01/2013 04:00    7.4  ug m-3                       R"
      ]
     },
     "execution_count": 2,
     "metadata": {},
     "output_type": "execute_result"
    }
   ],
   "source": [
    "df = pd.read_csv('Croydon-Norbury Air Quality.csv')\n",
    "df.head()"
   ]
  },
  {
   "cell_type": "code",
   "execution_count": 3,
   "metadata": {},
   "outputs": [
    {
     "data": {
      "text/plain": [
       "(52060, 6)"
      ]
     },
     "execution_count": 3,
     "metadata": {},
     "output_type": "execute_result"
    }
   ],
   "source": [
    "df.shape"
   ]
  },
  {
   "cell_type": "code",
   "execution_count": 4,
   "metadata": {},
   "outputs": [
    {
     "data": {
      "text/plain": [
       "array(['Site', 'Species', 'ReadingDateTime', 'Value', 'Units',\n",
       "       'Provisional or Ratified'], dtype=object)"
      ]
     },
     "execution_count": 4,
     "metadata": {},
     "output_type": "execute_result"
    }
   ],
   "source": [
    "df.columns.values"
   ]
  },
  {
   "cell_type": "code",
   "execution_count": 5,
   "metadata": {},
   "outputs": [
    {
     "data": {
      "text/plain": [
       "Site                        object\n",
       "Species                     object\n",
       "ReadingDateTime             object\n",
       "Value                      float64\n",
       "Units                       object\n",
       "Provisional or Ratified     object\n",
       "dtype: object"
      ]
     },
     "execution_count": 5,
     "metadata": {},
     "output_type": "execute_result"
    }
   ],
   "source": [
    "df.dtypes"
   ]
  },
  {
   "cell_type": "code",
   "execution_count": 6,
   "metadata": {},
   "outputs": [],
   "source": [
    "df=df[~pd.isnull(df['Value'])] # Removed records with null values"
   ]
  },
  {
   "cell_type": "code",
   "execution_count": 7,
   "metadata": {
    "scrolled": true
   },
   "outputs": [
    {
     "data": {
      "text/plain": [
       "44428"
      ]
     },
     "execution_count": 7,
     "metadata": {},
     "output_type": "execute_result"
    }
   ],
   "source": [
    "df['Value'].count() # Counting the number of rows"
   ]
  },
  {
   "cell_type": "code",
   "execution_count": 8,
   "metadata": {},
   "outputs": [
    {
     "data": {
      "text/html": [
       "<div>\n",
       "<style scoped>\n",
       "    .dataframe tbody tr th:only-of-type {\n",
       "        vertical-align: middle;\n",
       "    }\n",
       "\n",
       "    .dataframe tbody tr th {\n",
       "        vertical-align: top;\n",
       "    }\n",
       "\n",
       "    .dataframe thead th {\n",
       "        text-align: right;\n",
       "    }\n",
       "</style>\n",
       "<table border=\"1\" class=\"dataframe\">\n",
       "  <thead>\n",
       "    <tr style=\"text-align: right;\">\n",
       "      <th></th>\n",
       "      <th>Site</th>\n",
       "      <th>Species</th>\n",
       "      <th>ReadingDateTime</th>\n",
       "      <th>Value</th>\n",
       "      <th>Units</th>\n",
       "      <th>Provisional or Ratified</th>\n",
       "    </tr>\n",
       "  </thead>\n",
       "  <tbody>\n",
       "    <tr>\n",
       "      <th>44496</th>\n",
       "      <td>CR5</td>\n",
       "      <td>NO</td>\n",
       "      <td>29/01/2018 00:00</td>\n",
       "      <td>3.4</td>\n",
       "      <td>ug m-3</td>\n",
       "      <td>P</td>\n",
       "    </tr>\n",
       "    <tr>\n",
       "      <th>44497</th>\n",
       "      <td>CR5</td>\n",
       "      <td>NO</td>\n",
       "      <td>29/01/2018 01:00</td>\n",
       "      <td>2.8</td>\n",
       "      <td>ug m-3</td>\n",
       "      <td>P</td>\n",
       "    </tr>\n",
       "    <tr>\n",
       "      <th>44498</th>\n",
       "      <td>CR5</td>\n",
       "      <td>NO</td>\n",
       "      <td>29/01/2018 02:00</td>\n",
       "      <td>1.4</td>\n",
       "      <td>ug m-3</td>\n",
       "      <td>P</td>\n",
       "    </tr>\n",
       "    <tr>\n",
       "      <th>44499</th>\n",
       "      <td>CR5</td>\n",
       "      <td>NO</td>\n",
       "      <td>29/01/2018 03:00</td>\n",
       "      <td>1.6</td>\n",
       "      <td>ug m-3</td>\n",
       "      <td>P</td>\n",
       "    </tr>\n",
       "    <tr>\n",
       "      <th>44500</th>\n",
       "      <td>CR5</td>\n",
       "      <td>NO</td>\n",
       "      <td>29/01/2018 04:00</td>\n",
       "      <td>1.4</td>\n",
       "      <td>ug m-3</td>\n",
       "      <td>P</td>\n",
       "    </tr>\n",
       "  </tbody>\n",
       "</table>\n",
       "</div>"
      ],
      "text/plain": [
       "      Site Species   ReadingDateTime  Value   Units Provisional or Ratified\n",
       "44496  CR5      NO  29/01/2018 00:00    3.4  ug m-3                       P\n",
       "44497  CR5      NO  29/01/2018 01:00    2.8  ug m-3                       P\n",
       "44498  CR5      NO  29/01/2018 02:00    1.4  ug m-3                       P\n",
       "44499  CR5      NO  29/01/2018 03:00    1.6  ug m-3                       P\n",
       "44500  CR5      NO  29/01/2018 04:00    1.4  ug m-3                       P"
      ]
     },
     "execution_count": 8,
     "metadata": {},
     "output_type": "execute_result"
    }
   ],
   "source": [
    "df[df['Provisional or Ratified']=='P'].head()"
   ]
  },
  {
   "cell_type": "code",
   "execution_count": 9,
   "metadata": {},
   "outputs": [
    {
     "data": {
      "text/plain": [
       "Text(0.5,1,'Distribution of Nitric Oxide Concentration')"
      ]
     },
     "execution_count": 9,
     "metadata": {},
     "output_type": "execute_result"
    },
    {
     "data": {
      "image/png": "[encoded data removed]",
      "text/plain": [
       "<Figure size 432x288 with 1 Axes>"
      ]
     },
     "metadata": {},
     "output_type": "display_data"
    }
   ],
   "source": [
    "# Histogram Plot\n",
    "\n",
    "import matplotlib.pyplot as plt\n",
    "%matplotlib inline\n",
    "plt.hist(df['Value'], bins=10)\n",
    "plt.xlabel('Nitric Oxide concentraction in ug m-3')\n",
    "plt.ylabel('Count')\n",
    "plt.title('Distribution of Nitric Oxide Concentration')"
   ]
  },
  {
   "cell_type": "code",
   "execution_count": 10,
   "metadata": {},
   "outputs": [
    {
     "data": {
      "text/plain": [
       "count    44428.000000\n",
       "mean        64.074232\n",
       "std         64.862415\n",
       "min         -7.900000\n",
       "25%         16.800000\n",
       "50%         41.200000\n",
       "75%         92.200000\n",
       "max        670.000000\n",
       "Name: Value, dtype: float64"
      ]
     },
     "execution_count": 10,
     "metadata": {},
     "output_type": "execute_result"
    }
   ],
   "source": [
    "df['Value'].describe() # Descriptive statistics of Nitric Oxide Concentration"
   ]
  },
  {
   "cell_type": "markdown",
   "metadata": {},
   "source": [
    "The above histogram shows that most of the time the nitric oxide values fluctuate between 0 and 200. But the values range upto 670 as per the descriptive statistcs and this is probably because of outliers existing in the data."
   ]
  },
  {
   "cell_type": "code",
   "execution_count": 11,
   "metadata": {},
   "outputs": [
    {
     "data": {
      "text/plain": [
       "Text(0.5,1,'Density Plot of Nitric Oxide Concentration')"
      ]
     },
     "execution_count": 11,
     "metadata": {},
     "output_type": "execute_result"
    },
    {
     "data": {
      "image/png": "[encoded data removed]",
      "text/plain": [
       "<Figure size 432x288 with 1 Axes>"
      ]
     },
     "metadata": {},
     "output_type": "display_data"
    }
   ],
   "source": [
    "# Density Plot\n",
    "import seaborn as sns\n",
    "# Make one plot for each different location\n",
    "sns.kdeplot(df[df['Provisional or Ratified']=='P']['Value'],label='Provisional', shade = True)\n",
    "sns.kdeplot(df[df['Provisional or Ratified']=='R']['Value'],label='Ratified', shade = True)\n",
    "# Add labeling\n",
    "plt.xlabel('Nitric Oxide concentration in ug m-3')\n",
    "plt.ylabel('Density')\n",
    "plt.title('Density Plot of Nitric Oxide Concentration')"
   ]
  },
  {
   "cell_type": "code",
   "execution_count": 12,
   "metadata": {},
   "outputs": [
    {
     "data": {
      "text/plain": [
       "count    36889.000000\n",
       "mean        66.862384\n",
       "std         67.674987\n",
       "min         -7.900000\n",
       "25%         17.200000\n",
       "50%         42.700000\n",
       "75%         96.800000\n",
       "max        670.000000\n",
       "Name: Value, dtype: float64"
      ]
     },
     "execution_count": 12,
     "metadata": {},
     "output_type": "execute_result"
    }
   ],
   "source": [
    "df[df['Provisional or Ratified']=='R']['Value'].describe()"
   ]
  },
  {
   "cell_type": "code",
   "execution_count": 13,
   "metadata": {},
   "outputs": [
    {
     "data": {
      "text/plain": [
       "count    7539.000000\n",
       "mean       50.431556\n",
       "std        46.468341\n",
       "min        -3.000000\n",
       "25%        14.700000\n",
       "50%        34.600000\n",
       "75%        75.200000\n",
       "max       357.299990\n",
       "Name: Value, dtype: float64"
      ]
     },
     "execution_count": 13,
     "metadata": {},
     "output_type": "execute_result"
    }
   ],
   "source": [
    "df[df['Provisional or Ratified']=='P']['Value'].describe()"
   ]
  },
  {
   "cell_type": "markdown",
   "metadata": {},
   "source": [
    "From the above Density Plot we can see that the distribution of concentration of nitric oxide in Provisional and Ratified is similar."
   ]
  },
  {
   "cell_type": "code",
   "execution_count": 14,
   "metadata": {
    "scrolled": true
   },
   "outputs": [
    {
     "data": {
      "text/plain": [
       "Text(0.5,1,'Scatter plot of Nitric Oxide Distribution')"
      ]
     },
     "execution_count": 14,
     "metadata": {},
     "output_type": "execute_result"
    },
    {
     "data": {
      "image/png": "[encoded data removed]",
      "text/plain": [
       "<Figure size 432x288 with 1 Axes>"
      ]
     },
     "metadata": {},
     "output_type": "display_data"
    }
   ],
   "source": [
    "plt.scatter(df.index,df['Value'])\n",
    "plt.xlabel('Index')\n",
    "plt.ylabel('Concentration of Nitric Oxide')\n",
    "plt.title('Scatter plot of Nitric Oxide Distribution')"
   ]
  },
  {
   "cell_type": "markdown",
   "metadata": {},
   "source": [
    "From the above scatter plot we can confirm that outliers are present in the data and they have to be removed."
   ]
  },
  {
   "cell_type": "code",
   "execution_count": 15,
   "metadata": {},
   "outputs": [
    {
     "data": {
      "text/plain": [
       "144"
      ]
     },
     "execution_count": 15,
     "metadata": {},
     "output_type": "execute_result"
    }
   ],
   "source": [
    "df[df['Value']>350]['Value'].count()"
   ]
  },
  {
   "cell_type": "code",
   "execution_count": 16,
   "metadata": {
    "scrolled": true
   },
   "outputs": [
    {
     "data": {
      "text/plain": [
       "528"
      ]
     },
     "execution_count": 16,
     "metadata": {},
     "output_type": "execute_result"
    }
   ],
   "source": [
    "df[df['Value']>280]['Value'].count()"
   ]
  },
  {
   "cell_type": "code",
   "execution_count": 17,
   "metadata": {},
   "outputs": [],
   "source": [
    "df['ReadingDateTime']=pd.to_datetime(df['ReadingDateTime'])"
   ]
  },
  {
   "cell_type": "code",
   "execution_count": 18,
   "metadata": {
    "scrolled": true
   },
   "outputs": [
    {
     "data": {
      "text/plain": [
       "array([2013, 2014, 2015, 2016, 2017, 2018], dtype=int64)"
      ]
     },
     "execution_count": 18,
     "metadata": {},
     "output_type": "execute_result"
    }
   ],
   "source": [
    "df['ReadingDateTime'].dt.year.unique()"
   ]
  },
  {
   "cell_type": "markdown",
   "metadata": {},
   "source": [
    "### Identifying outliers using Inter Quartile Range"
   ]
  },
  {
   "cell_type": "code",
   "execution_count": 19,
   "metadata": {
    "scrolled": true
   },
   "outputs": [
    {
     "data": {
      "text/plain": [
       "<matplotlib.axes._subplots.AxesSubplot at 0x924eb70>"
      ]
     },
     "execution_count": 19,
     "metadata": {},
     "output_type": "execute_result"
    },
    {
     "data": {
      "image/png": "[encoded data removed]",
      "text/plain": [
       "<Figure size 432x288 with 1 Axes>"
      ]
     },
     "metadata": {},
     "output_type": "display_data"
    }
   ],
   "source": [
    "sns.boxplot(x=df['Value'])"
   ]
  },
  {
   "cell_type": "markdown",
   "metadata": {},
   "source": [
    "The above box plot shows the points in the interquartile range (IQR) in the box and the points outside the range. We will consider the points more than Q3(third quartile - 75%) plus 1.5*(IQR) i.e., Q3 + 1.5*(IQR) or the points less than  Q1(first quartile - 25%) minus 1.5*(IQR) i.e., Q1 - 1.5*(IQR) as outliers. Below code is for identifying outliers."
   ]
  },
  {
   "cell_type": "code",
   "execution_count": 20,
   "metadata": {},
   "outputs": [
    {
     "name": "stdout",
     "output_type": "stream",
     "text": [
      "75.4\n"
     ]
    }
   ],
   "source": [
    "Q1 = df['Value'].quantile(0.25)\n",
    "Q3 = df['Value'].quantile(0.75)\n",
    "IQR = Q3 - Q1\n",
    "print(IQR)"
   ]
  },
  {
   "cell_type": "code",
   "execution_count": 21,
   "metadata": {},
   "outputs": [
    {
     "data": {
      "text/html": [
       "<div>\n",
       "<style scoped>\n",
       "    .dataframe tbody tr th:only-of-type {\n",
       "        vertical-align: middle;\n",
       "    }\n",
       "\n",
       "    .dataframe tbody tr th {\n",
       "        vertical-align: top;\n",
       "    }\n",
       "\n",
       "    .dataframe thead th {\n",
       "        text-align: right;\n",
       "    }\n",
       "</style>\n",
       "<table border=\"1\" class=\"dataframe\">\n",
       "  <thead>\n",
       "    <tr style=\"text-align: right;\">\n",
       "      <th></th>\n",
       "      <th>Site</th>\n",
       "      <th>Species</th>\n",
       "      <th>ReadingDateTime</th>\n",
       "      <th>Value</th>\n",
       "      <th>Units</th>\n",
       "      <th>Provisional or Ratified</th>\n",
       "    </tr>\n",
       "  </thead>\n",
       "  <tbody>\n",
       "    <tr>\n",
       "      <th>198</th>\n",
       "      <td>CR5</td>\n",
       "      <td>NO</td>\n",
       "      <td>2013-09-01 06:00:00</td>\n",
       "      <td>206.20000</td>\n",
       "      <td>ug m-3</td>\n",
       "      <td>R</td>\n",
       "    </tr>\n",
       "    <tr>\n",
       "      <th>199</th>\n",
       "      <td>CR5</td>\n",
       "      <td>NO</td>\n",
       "      <td>2013-09-01 07:00:00</td>\n",
       "      <td>281.50000</td>\n",
       "      <td>ug m-3</td>\n",
       "      <td>R</td>\n",
       "    </tr>\n",
       "    <tr>\n",
       "      <th>200</th>\n",
       "      <td>CR5</td>\n",
       "      <td>NO</td>\n",
       "      <td>2013-09-01 08:00:00</td>\n",
       "      <td>261.00000</td>\n",
       "      <td>ug m-3</td>\n",
       "      <td>R</td>\n",
       "    </tr>\n",
       "    <tr>\n",
       "      <th>201</th>\n",
       "      <td>CR5</td>\n",
       "      <td>NO</td>\n",
       "      <td>2013-09-01 09:00:00</td>\n",
       "      <td>230.10001</td>\n",
       "      <td>ug m-3</td>\n",
       "      <td>R</td>\n",
       "    </tr>\n",
       "    <tr>\n",
       "      <th>202</th>\n",
       "      <td>CR5</td>\n",
       "      <td>NO</td>\n",
       "      <td>2013-09-01 10:00:00</td>\n",
       "      <td>240.60001</td>\n",
       "      <td>ug m-3</td>\n",
       "      <td>R</td>\n",
       "    </tr>\n",
       "  </tbody>\n",
       "</table>\n",
       "</div>"
      ],
      "text/plain": [
       "    Site Species     ReadingDateTime      Value   Units  \\\n",
       "198  CR5      NO 2013-09-01 06:00:00  206.20000  ug m-3   \n",
       "199  CR5      NO 2013-09-01 07:00:00  281.50000  ug m-3   \n",
       "200  CR5      NO 2013-09-01 08:00:00  261.00000  ug m-3   \n",
       "201  CR5      NO 2013-09-01 09:00:00  230.10001  ug m-3   \n",
       "202  CR5      NO 2013-09-01 10:00:00  240.60001  ug m-3   \n",
       "\n",
       "    Provisional or Ratified  \n",
       "198                       R  \n",
       "199                       R  \n",
       "200                       R  \n",
       "201                       R  \n",
       "202                       R  "
      ]
     },
     "execution_count": 21,
     "metadata": {},
     "output_type": "execute_result"
    }
   ],
   "source": [
    "# Prints the outlier values\n",
    "\n",
    "threshold_1 = Q1 - (1.5 * IQR)\n",
    "threshold_2 = Q3 + (1.5 * IQR)\n",
    "\n",
    "df_outliers=df[~((df['Value']>=threshold_1) & (df['Value']<=threshold_2))]\n",
    "df_non_outliers=df[(df['Value']>=threshold_1) & (df['Value']<=threshold_2)]\n",
    "df_outliers.head()"
   ]
  },
  {
   "cell_type": "code",
   "execution_count": 22,
   "metadata": {},
   "outputs": [
    {
     "data": {
      "text/plain": [
       "count    42530.000000\n",
       "mean        55.157150\n",
       "std         48.694485\n",
       "min         -7.900000\n",
       "25%         16.100000\n",
       "50%         38.200000\n",
       "75%         83.800000\n",
       "max        205.300000\n",
       "Name: Value, dtype: float64"
      ]
     },
     "execution_count": 22,
     "metadata": {},
     "output_type": "execute_result"
    }
   ],
   "source": [
    "df_non_outliers['Value'].describe()"
   ]
  },
  {
   "cell_type": "markdown",
   "metadata": {},
   "source": [
    "### Identifying outliers using Z-Score"
   ]
  },
  {
   "cell_type": "markdown",
   "metadata": {},
   "source": [
    "Z-Score is a measure of how many standard deviations above or below the mean a data point is. As per the normal distribution 99.7% of the values are within three standard deviations from the mean. Hence, we'll consider all the points below three standard deviations from mean i.e., with a z-score of less than -3 and the points above three standard deviations from mean i.e., with a z-score of more than +3  as outliers. \n",
    "\n",
    "Please find the code below:"
   ]
  },
  {
   "cell_type": "code",
   "execution_count": 23,
   "metadata": {},
   "outputs": [
    {
     "data": {
      "text/html": [
       "<div>\n",
       "<style scoped>\n",
       "    .dataframe tbody tr th:only-of-type {\n",
       "        vertical-align: middle;\n",
       "    }\n",
       "\n",
       "    .dataframe tbody tr th {\n",
       "        vertical-align: top;\n",
       "    }\n",
       "\n",
       "    .dataframe thead th {\n",
       "        text-align: right;\n",
       "    }\n",
       "</style>\n",
       "<table border=\"1\" class=\"dataframe\">\n",
       "  <thead>\n",
       "    <tr style=\"text-align: right;\">\n",
       "      <th></th>\n",
       "      <th>Site</th>\n",
       "      <th>Species</th>\n",
       "      <th>ReadingDateTime</th>\n",
       "      <th>Value</th>\n",
       "      <th>Units</th>\n",
       "      <th>Provisional or Ratified</th>\n",
       "      <th>z_score</th>\n",
       "    </tr>\n",
       "  </thead>\n",
       "  <tbody>\n",
       "    <tr>\n",
       "      <th>0</th>\n",
       "      <td>CR5</td>\n",
       "      <td>NO</td>\n",
       "      <td>2013-01-01 00:00:00</td>\n",
       "      <td>24.6</td>\n",
       "      <td>ug m-3</td>\n",
       "      <td>R</td>\n",
       "      <td>0.608591</td>\n",
       "    </tr>\n",
       "    <tr>\n",
       "      <th>1</th>\n",
       "      <td>CR5</td>\n",
       "      <td>NO</td>\n",
       "      <td>2013-01-01 01:00:00</td>\n",
       "      <td>17.9</td>\n",
       "      <td>ug m-3</td>\n",
       "      <td>R</td>\n",
       "      <td>0.711888</td>\n",
       "    </tr>\n",
       "    <tr>\n",
       "      <th>2</th>\n",
       "      <td>CR5</td>\n",
       "      <td>NO</td>\n",
       "      <td>2013-01-01 02:00:00</td>\n",
       "      <td>20.0</td>\n",
       "      <td>ug m-3</td>\n",
       "      <td>R</td>\n",
       "      <td>0.679511</td>\n",
       "    </tr>\n",
       "    <tr>\n",
       "      <th>3</th>\n",
       "      <td>CR5</td>\n",
       "      <td>NO</td>\n",
       "      <td>2013-01-01 03:00:00</td>\n",
       "      <td>24.5</td>\n",
       "      <td>ug m-3</td>\n",
       "      <td>R</td>\n",
       "      <td>0.610133</td>\n",
       "    </tr>\n",
       "    <tr>\n",
       "      <th>4</th>\n",
       "      <td>CR5</td>\n",
       "      <td>NO</td>\n",
       "      <td>2013-01-01 04:00:00</td>\n",
       "      <td>7.4</td>\n",
       "      <td>ug m-3</td>\n",
       "      <td>R</td>\n",
       "      <td>0.873771</td>\n",
       "    </tr>\n",
       "  </tbody>\n",
       "</table>\n",
       "</div>"
      ],
      "text/plain": [
       "  Site Species     ReadingDateTime  Value   Units Provisional or Ratified  \\\n",
       "0  CR5      NO 2013-01-01 00:00:00   24.6  ug m-3                       R   \n",
       "1  CR5      NO 2013-01-01 01:00:00   17.9  ug m-3                       R   \n",
       "2  CR5      NO 2013-01-01 02:00:00   20.0  ug m-3                       R   \n",
       "3  CR5      NO 2013-01-01 03:00:00   24.5  ug m-3                       R   \n",
       "4  CR5      NO 2013-01-01 04:00:00    7.4  ug m-3                       R   \n",
       "\n",
       "    z_score  \n",
       "0  0.608591  \n",
       "1  0.711888  \n",
       "2  0.679511  \n",
       "3  0.610133  \n",
       "4  0.873771  "
      ]
     },
     "execution_count": 23,
     "metadata": {},
     "output_type": "execute_result"
    }
   ],
   "source": [
    "from scipy import stats\n",
    "df_dup=df.copy()\n",
    "df_dup['z_score'] = abs(stats.zscore(df['Value'])) #Caluculating z-score\n",
    "df_dup.head()"
   ]
  },
  {
   "cell_type": "code",
   "execution_count": 24,
   "metadata": {
    "scrolled": true
   },
   "outputs": [
    {
     "data": {
      "text/html": [
       "<div>\n",
       "<style scoped>\n",
       "    .dataframe tbody tr th:only-of-type {\n",
       "        vertical-align: middle;\n",
       "    }\n",
       "\n",
       "    .dataframe tbody tr th {\n",
       "        vertical-align: top;\n",
       "    }\n",
       "\n",
       "    .dataframe thead th {\n",
       "        text-align: right;\n",
       "    }\n",
       "</style>\n",
       "<table border=\"1\" class=\"dataframe\">\n",
       "  <thead>\n",
       "    <tr style=\"text-align: right;\">\n",
       "      <th></th>\n",
       "      <th>Site</th>\n",
       "      <th>Species</th>\n",
       "      <th>ReadingDateTime</th>\n",
       "      <th>Value</th>\n",
       "      <th>Units</th>\n",
       "      <th>Provisional or Ratified</th>\n",
       "      <th>z_score</th>\n",
       "    </tr>\n",
       "  </thead>\n",
       "  <tbody>\n",
       "    <tr>\n",
       "      <th>199</th>\n",
       "      <td>CR5</td>\n",
       "      <td>NO</td>\n",
       "      <td>2013-09-01 07:00:00</td>\n",
       "      <td>281.50000</td>\n",
       "      <td>ug m-3</td>\n",
       "      <td>R</td>\n",
       "      <td>3.352145</td>\n",
       "    </tr>\n",
       "    <tr>\n",
       "      <th>200</th>\n",
       "      <td>CR5</td>\n",
       "      <td>NO</td>\n",
       "      <td>2013-09-01 08:00:00</td>\n",
       "      <td>261.00000</td>\n",
       "      <td>ug m-3</td>\n",
       "      <td>R</td>\n",
       "      <td>3.036088</td>\n",
       "    </tr>\n",
       "    <tr>\n",
       "      <th>204</th>\n",
       "      <td>CR5</td>\n",
       "      <td>NO</td>\n",
       "      <td>2013-09-01 12:00:00</td>\n",
       "      <td>263.39999</td>\n",
       "      <td>ug m-3</td>\n",
       "      <td>R</td>\n",
       "      <td>3.073089</td>\n",
       "    </tr>\n",
       "    <tr>\n",
       "      <th>205</th>\n",
       "      <td>CR5</td>\n",
       "      <td>NO</td>\n",
       "      <td>2013-09-01 13:00:00</td>\n",
       "      <td>273.29999</td>\n",
       "      <td>ug m-3</td>\n",
       "      <td>R</td>\n",
       "      <td>3.225722</td>\n",
       "    </tr>\n",
       "    <tr>\n",
       "      <th>209</th>\n",
       "      <td>CR5</td>\n",
       "      <td>NO</td>\n",
       "      <td>2013-09-01 17:00:00</td>\n",
       "      <td>262.60001</td>\n",
       "      <td>ug m-3</td>\n",
       "      <td>R</td>\n",
       "      <td>3.060756</td>\n",
       "    </tr>\n",
       "    <tr>\n",
       "      <th>211</th>\n",
       "      <td>CR5</td>\n",
       "      <td>NO</td>\n",
       "      <td>2013-09-01 19:00:00</td>\n",
       "      <td>279.60001</td>\n",
       "      <td>ug m-3</td>\n",
       "      <td>R</td>\n",
       "      <td>3.322852</td>\n",
       "    </tr>\n",
       "    <tr>\n",
       "      <th>212</th>\n",
       "      <td>CR5</td>\n",
       "      <td>NO</td>\n",
       "      <td>2013-09-01 20:00:00</td>\n",
       "      <td>289.39999</td>\n",
       "      <td>ug m-3</td>\n",
       "      <td>R</td>\n",
       "      <td>3.473942</td>\n",
       "    </tr>\n",
       "    <tr>\n",
       "      <th>213</th>\n",
       "      <td>CR5</td>\n",
       "      <td>NO</td>\n",
       "      <td>2013-09-01 21:00:00</td>\n",
       "      <td>335.89999</td>\n",
       "      <td>ug m-3</td>\n",
       "      <td>R</td>\n",
       "      <td>4.190853</td>\n",
       "    </tr>\n",
       "    <tr>\n",
       "      <th>214</th>\n",
       "      <td>CR5</td>\n",
       "      <td>NO</td>\n",
       "      <td>2013-09-01 22:00:00</td>\n",
       "      <td>314.00000</td>\n",
       "      <td>ug m-3</td>\n",
       "      <td>R</td>\n",
       "      <td>3.853211</td>\n",
       "    </tr>\n",
       "    <tr>\n",
       "      <th>215</th>\n",
       "      <td>CR5</td>\n",
       "      <td>NO</td>\n",
       "      <td>2013-09-01 23:00:00</td>\n",
       "      <td>328.79999</td>\n",
       "      <td>ug m-3</td>\n",
       "      <td>R</td>\n",
       "      <td>4.081389</td>\n",
       "    </tr>\n",
       "    <tr>\n",
       "      <th>223</th>\n",
       "      <td>CR5</td>\n",
       "      <td>NO</td>\n",
       "      <td>2013-10-01 07:00:00</td>\n",
       "      <td>305.79999</td>\n",
       "      <td>ug m-3</td>\n",
       "      <td>R</td>\n",
       "      <td>3.726788</td>\n",
       "    </tr>\n",
       "    <tr>\n",
       "      <th>224</th>\n",
       "      <td>CR5</td>\n",
       "      <td>NO</td>\n",
       "      <td>2013-10-01 08:00:00</td>\n",
       "      <td>270.29999</td>\n",
       "      <td>ug m-3</td>\n",
       "      <td>R</td>\n",
       "      <td>3.179470</td>\n",
       "    </tr>\n",
       "    <tr>\n",
       "      <th>246</th>\n",
       "      <td>CR5</td>\n",
       "      <td>NO</td>\n",
       "      <td>2013-11-01 06:00:00</td>\n",
       "      <td>260.79999</td>\n",
       "      <td>ug m-3</td>\n",
       "      <td>R</td>\n",
       "      <td>3.033004</td>\n",
       "    </tr>\n",
       "    <tr>\n",
       "      <th>247</th>\n",
       "      <td>CR5</td>\n",
       "      <td>NO</td>\n",
       "      <td>2013-11-01 07:00:00</td>\n",
       "      <td>418.89999</td>\n",
       "      <td>ug m-3</td>\n",
       "      <td>R</td>\n",
       "      <td>5.470499</td>\n",
       "    </tr>\n",
       "    <tr>\n",
       "      <th>248</th>\n",
       "      <td>CR5</td>\n",
       "      <td>NO</td>\n",
       "      <td>2013-11-01 08:00:00</td>\n",
       "      <td>306.50000</td>\n",
       "      <td>ug m-3</td>\n",
       "      <td>R</td>\n",
       "      <td>3.737580</td>\n",
       "    </tr>\n",
       "    <tr>\n",
       "      <th>249</th>\n",
       "      <td>CR5</td>\n",
       "      <td>NO</td>\n",
       "      <td>2013-11-01 09:00:00</td>\n",
       "      <td>265.00000</td>\n",
       "      <td>ug m-3</td>\n",
       "      <td>R</td>\n",
       "      <td>3.097757</td>\n",
       "    </tr>\n",
       "    <tr>\n",
       "      <th>252</th>\n",
       "      <td>CR5</td>\n",
       "      <td>NO</td>\n",
       "      <td>2013-11-01 12:00:00</td>\n",
       "      <td>307.00000</td>\n",
       "      <td>ug m-3</td>\n",
       "      <td>R</td>\n",
       "      <td>3.745289</td>\n",
       "    </tr>\n",
       "    <tr>\n",
       "      <th>253</th>\n",
       "      <td>CR5</td>\n",
       "      <td>NO</td>\n",
       "      <td>2013-11-01 13:00:00</td>\n",
       "      <td>302.39999</td>\n",
       "      <td>ug m-3</td>\n",
       "      <td>R</td>\n",
       "      <td>3.674369</td>\n",
       "    </tr>\n",
       "    <tr>\n",
       "      <th>254</th>\n",
       "      <td>CR5</td>\n",
       "      <td>NO</td>\n",
       "      <td>2013-11-01 14:00:00</td>\n",
       "      <td>343.50000</td>\n",
       "      <td>ug m-3</td>\n",
       "      <td>R</td>\n",
       "      <td>4.308025</td>\n",
       "    </tr>\n",
       "    <tr>\n",
       "      <th>255</th>\n",
       "      <td>CR5</td>\n",
       "      <td>NO</td>\n",
       "      <td>2013-11-01 15:00:00</td>\n",
       "      <td>392.70001</td>\n",
       "      <td>ug m-3</td>\n",
       "      <td>R</td>\n",
       "      <td>5.066562</td>\n",
       "    </tr>\n",
       "    <tr>\n",
       "      <th>256</th>\n",
       "      <td>CR5</td>\n",
       "      <td>NO</td>\n",
       "      <td>2013-11-01 16:00:00</td>\n",
       "      <td>386.70001</td>\n",
       "      <td>ug m-3</td>\n",
       "      <td>R</td>\n",
       "      <td>4.974058</td>\n",
       "    </tr>\n",
       "    <tr>\n",
       "      <th>257</th>\n",
       "      <td>CR5</td>\n",
       "      <td>NO</td>\n",
       "      <td>2013-11-01 17:00:00</td>\n",
       "      <td>302.89999</td>\n",
       "      <td>ug m-3</td>\n",
       "      <td>R</td>\n",
       "      <td>3.682078</td>\n",
       "    </tr>\n",
       "    <tr>\n",
       "      <th>258</th>\n",
       "      <td>CR5</td>\n",
       "      <td>NO</td>\n",
       "      <td>2013-11-01 18:00:00</td>\n",
       "      <td>305.70001</td>\n",
       "      <td>ug m-3</td>\n",
       "      <td>R</td>\n",
       "      <td>3.725247</td>\n",
       "    </tr>\n",
       "    <tr>\n",
       "      <th>259</th>\n",
       "      <td>CR5</td>\n",
       "      <td>NO</td>\n",
       "      <td>2013-11-01 19:00:00</td>\n",
       "      <td>330.60001</td>\n",
       "      <td>ug m-3</td>\n",
       "      <td>R</td>\n",
       "      <td>4.109141</td>\n",
       "    </tr>\n",
       "    <tr>\n",
       "      <th>260</th>\n",
       "      <td>CR5</td>\n",
       "      <td>NO</td>\n",
       "      <td>2013-11-01 20:00:00</td>\n",
       "      <td>307.29999</td>\n",
       "      <td>ug m-3</td>\n",
       "      <td>R</td>\n",
       "      <td>3.749914</td>\n",
       "    </tr>\n",
       "    <tr>\n",
       "      <th>344</th>\n",
       "      <td>CR5</td>\n",
       "      <td>NO</td>\n",
       "      <td>2013-01-15 08:00:00</td>\n",
       "      <td>332.10001</td>\n",
       "      <td>ug m-3</td>\n",
       "      <td>R</td>\n",
       "      <td>4.132267</td>\n",
       "    </tr>\n",
       "    <tr>\n",
       "      <th>367</th>\n",
       "      <td>CR5</td>\n",
       "      <td>NO</td>\n",
       "      <td>2013-01-16 07:00:00</td>\n",
       "      <td>362.00000</td>\n",
       "      <td>ug m-3</td>\n",
       "      <td>R</td>\n",
       "      <td>4.593247</td>\n",
       "    </tr>\n",
       "    <tr>\n",
       "      <th>368</th>\n",
       "      <td>CR5</td>\n",
       "      <td>NO</td>\n",
       "      <td>2013-01-16 08:00:00</td>\n",
       "      <td>375.70001</td>\n",
       "      <td>ug m-3</td>\n",
       "      <td>R</td>\n",
       "      <td>4.804466</td>\n",
       "    </tr>\n",
       "    <tr>\n",
       "      <th>369</th>\n",
       "      <td>CR5</td>\n",
       "      <td>NO</td>\n",
       "      <td>2013-01-16 09:00:00</td>\n",
       "      <td>293.50000</td>\n",
       "      <td>ug m-3</td>\n",
       "      <td>R</td>\n",
       "      <td>3.537154</td>\n",
       "    </tr>\n",
       "    <tr>\n",
       "      <th>370</th>\n",
       "      <td>CR5</td>\n",
       "      <td>NO</td>\n",
       "      <td>2013-01-16 10:00:00</td>\n",
       "      <td>296.20001</td>\n",
       "      <td>ug m-3</td>\n",
       "      <td>R</td>\n",
       "      <td>3.578781</td>\n",
       "    </tr>\n",
       "    <tr>\n",
       "      <th>...</th>\n",
       "      <td>...</td>\n",
       "      <td>...</td>\n",
       "      <td>...</td>\n",
       "      <td>...</td>\n",
       "      <td>...</td>\n",
       "      <td>...</td>\n",
       "      <td>...</td>\n",
       "    </tr>\n",
       "    <tr>\n",
       "      <th>43507</th>\n",
       "      <td>CR5</td>\n",
       "      <td>NO</td>\n",
       "      <td>2017-12-18 19:00:00</td>\n",
       "      <td>346.29999</td>\n",
       "      <td>ug m-3</td>\n",
       "      <td>R</td>\n",
       "      <td>4.351194</td>\n",
       "    </tr>\n",
       "    <tr>\n",
       "      <th>43508</th>\n",
       "      <td>CR5</td>\n",
       "      <td>NO</td>\n",
       "      <td>2017-12-18 20:00:00</td>\n",
       "      <td>344.39999</td>\n",
       "      <td>ug m-3</td>\n",
       "      <td>R</td>\n",
       "      <td>4.321901</td>\n",
       "    </tr>\n",
       "    <tr>\n",
       "      <th>43509</th>\n",
       "      <td>CR5</td>\n",
       "      <td>NO</td>\n",
       "      <td>2017-12-18 21:00:00</td>\n",
       "      <td>360.29999</td>\n",
       "      <td>ug m-3</td>\n",
       "      <td>R</td>\n",
       "      <td>4.567038</td>\n",
       "    </tr>\n",
       "    <tr>\n",
       "      <th>43510</th>\n",
       "      <td>CR5</td>\n",
       "      <td>NO</td>\n",
       "      <td>2017-12-18 22:00:00</td>\n",
       "      <td>312.60001</td>\n",
       "      <td>ug m-3</td>\n",
       "      <td>R</td>\n",
       "      <td>3.831627</td>\n",
       "    </tr>\n",
       "    <tr>\n",
       "      <th>43511</th>\n",
       "      <td>CR5</td>\n",
       "      <td>NO</td>\n",
       "      <td>2017-12-18 23:00:00</td>\n",
       "      <td>307.29999</td>\n",
       "      <td>ug m-3</td>\n",
       "      <td>R</td>\n",
       "      <td>3.749914</td>\n",
       "    </tr>\n",
       "    <tr>\n",
       "      <th>43521</th>\n",
       "      <td>CR5</td>\n",
       "      <td>NO</td>\n",
       "      <td>2017-12-19 09:00:00</td>\n",
       "      <td>309.00000</td>\n",
       "      <td>ug m-3</td>\n",
       "      <td>R</td>\n",
       "      <td>3.776124</td>\n",
       "    </tr>\n",
       "    <tr>\n",
       "      <th>43522</th>\n",
       "      <td>CR5</td>\n",
       "      <td>NO</td>\n",
       "      <td>2017-12-19 10:00:00</td>\n",
       "      <td>269.70001</td>\n",
       "      <td>ug m-3</td>\n",
       "      <td>R</td>\n",
       "      <td>3.170219</td>\n",
       "    </tr>\n",
       "    <tr>\n",
       "      <th>44059</th>\n",
       "      <td>CR5</td>\n",
       "      <td>NO</td>\n",
       "      <td>2018-10-01 19:00:00</td>\n",
       "      <td>265.10001</td>\n",
       "      <td>ug m-3</td>\n",
       "      <td>R</td>\n",
       "      <td>3.099299</td>\n",
       "    </tr>\n",
       "    <tr>\n",
       "      <th>44060</th>\n",
       "      <td>CR5</td>\n",
       "      <td>NO</td>\n",
       "      <td>2018-10-01 20:00:00</td>\n",
       "      <td>271.60001</td>\n",
       "      <td>ug m-3</td>\n",
       "      <td>R</td>\n",
       "      <td>3.199513</td>\n",
       "    </tr>\n",
       "    <tr>\n",
       "      <th>44072</th>\n",
       "      <td>CR5</td>\n",
       "      <td>NO</td>\n",
       "      <td>2018-11-01 08:00:00</td>\n",
       "      <td>350.00000</td>\n",
       "      <td>ug m-3</td>\n",
       "      <td>R</td>\n",
       "      <td>4.408238</td>\n",
       "    </tr>\n",
       "    <tr>\n",
       "      <th>44073</th>\n",
       "      <td>CR5</td>\n",
       "      <td>NO</td>\n",
       "      <td>2018-11-01 09:00:00</td>\n",
       "      <td>273.29999</td>\n",
       "      <td>ug m-3</td>\n",
       "      <td>R</td>\n",
       "      <td>3.225722</td>\n",
       "    </tr>\n",
       "    <tr>\n",
       "      <th>44529</th>\n",
       "      <td>CR5</td>\n",
       "      <td>NO</td>\n",
       "      <td>2018-01-30 09:00:00</td>\n",
       "      <td>318.39999</td>\n",
       "      <td>ug m-3</td>\n",
       "      <td>P</td>\n",
       "      <td>3.921048</td>\n",
       "    </tr>\n",
       "    <tr>\n",
       "      <th>45056</th>\n",
       "      <td>CR5</td>\n",
       "      <td>NO</td>\n",
       "      <td>2018-02-21 08:00:00</td>\n",
       "      <td>279.79999</td>\n",
       "      <td>ug m-3</td>\n",
       "      <td>P</td>\n",
       "      <td>3.325935</td>\n",
       "    </tr>\n",
       "    <tr>\n",
       "      <th>45057</th>\n",
       "      <td>CR5</td>\n",
       "      <td>NO</td>\n",
       "      <td>2018-02-21 09:00:00</td>\n",
       "      <td>267.20001</td>\n",
       "      <td>ug m-3</td>\n",
       "      <td>P</td>\n",
       "      <td>3.131676</td>\n",
       "    </tr>\n",
       "    <tr>\n",
       "      <th>45104</th>\n",
       "      <td>CR5</td>\n",
       "      <td>NO</td>\n",
       "      <td>2018-02-23 08:00:00</td>\n",
       "      <td>268.89999</td>\n",
       "      <td>ug m-3</td>\n",
       "      <td>P</td>\n",
       "      <td>3.157885</td>\n",
       "    </tr>\n",
       "    <tr>\n",
       "      <th>51632</th>\n",
       "      <td>CR5</td>\n",
       "      <td>NO</td>\n",
       "      <td>2018-11-22 08:00:00</td>\n",
       "      <td>329.39999</td>\n",
       "      <td>ug m-3</td>\n",
       "      <td>P</td>\n",
       "      <td>4.090639</td>\n",
       "    </tr>\n",
       "    <tr>\n",
       "      <th>51633</th>\n",
       "      <td>CR5</td>\n",
       "      <td>NO</td>\n",
       "      <td>2018-11-22 09:00:00</td>\n",
       "      <td>338.29999</td>\n",
       "      <td>ug m-3</td>\n",
       "      <td>P</td>\n",
       "      <td>4.227854</td>\n",
       "    </tr>\n",
       "    <tr>\n",
       "      <th>51634</th>\n",
       "      <td>CR5</td>\n",
       "      <td>NO</td>\n",
       "      <td>2018-11-22 10:00:00</td>\n",
       "      <td>357.29999</td>\n",
       "      <td>ug m-3</td>\n",
       "      <td>P</td>\n",
       "      <td>4.520785</td>\n",
       "    </tr>\n",
       "    <tr>\n",
       "      <th>51635</th>\n",
       "      <td>CR5</td>\n",
       "      <td>NO</td>\n",
       "      <td>2018-11-22 11:00:00</td>\n",
       "      <td>268.20001</td>\n",
       "      <td>ug m-3</td>\n",
       "      <td>P</td>\n",
       "      <td>3.147093</td>\n",
       "    </tr>\n",
       "    <tr>\n",
       "      <th>51637</th>\n",
       "      <td>CR5</td>\n",
       "      <td>NO</td>\n",
       "      <td>2018-11-22 13:00:00</td>\n",
       "      <td>261.50000</td>\n",
       "      <td>ug m-3</td>\n",
       "      <td>P</td>\n",
       "      <td>3.043796</td>\n",
       "    </tr>\n",
       "    <tr>\n",
       "      <th>51638</th>\n",
       "      <td>CR5</td>\n",
       "      <td>NO</td>\n",
       "      <td>2018-11-22 14:00:00</td>\n",
       "      <td>301.00000</td>\n",
       "      <td>ug m-3</td>\n",
       "      <td>P</td>\n",
       "      <td>3.652785</td>\n",
       "    </tr>\n",
       "    <tr>\n",
       "      <th>51639</th>\n",
       "      <td>CR5</td>\n",
       "      <td>NO</td>\n",
       "      <td>2018-11-22 15:00:00</td>\n",
       "      <td>275.79999</td>\n",
       "      <td>ug m-3</td>\n",
       "      <td>P</td>\n",
       "      <td>3.264265</td>\n",
       "    </tr>\n",
       "    <tr>\n",
       "      <th>51640</th>\n",
       "      <td>CR5</td>\n",
       "      <td>NO</td>\n",
       "      <td>2018-11-22 16:00:00</td>\n",
       "      <td>305.20001</td>\n",
       "      <td>ug m-3</td>\n",
       "      <td>P</td>\n",
       "      <td>3.717538</td>\n",
       "    </tr>\n",
       "    <tr>\n",
       "      <th>51641</th>\n",
       "      <td>CR5</td>\n",
       "      <td>NO</td>\n",
       "      <td>2018-11-22 17:00:00</td>\n",
       "      <td>309.29999</td>\n",
       "      <td>ug m-3</td>\n",
       "      <td>P</td>\n",
       "      <td>3.780749</td>\n",
       "    </tr>\n",
       "    <tr>\n",
       "      <th>51642</th>\n",
       "      <td>CR5</td>\n",
       "      <td>NO</td>\n",
       "      <td>2018-11-22 18:00:00</td>\n",
       "      <td>282.39999</td>\n",
       "      <td>ug m-3</td>\n",
       "      <td>P</td>\n",
       "      <td>3.366020</td>\n",
       "    </tr>\n",
       "    <tr>\n",
       "      <th>51643</th>\n",
       "      <td>CR5</td>\n",
       "      <td>NO</td>\n",
       "      <td>2018-11-22 19:00:00</td>\n",
       "      <td>270.29999</td>\n",
       "      <td>ug m-3</td>\n",
       "      <td>P</td>\n",
       "      <td>3.179470</td>\n",
       "    </tr>\n",
       "    <tr>\n",
       "      <th>51644</th>\n",
       "      <td>CR5</td>\n",
       "      <td>NO</td>\n",
       "      <td>2018-11-22 20:00:00</td>\n",
       "      <td>282.60001</td>\n",
       "      <td>ug m-3</td>\n",
       "      <td>P</td>\n",
       "      <td>3.369104</td>\n",
       "    </tr>\n",
       "    <tr>\n",
       "      <th>51656</th>\n",
       "      <td>CR5</td>\n",
       "      <td>NO</td>\n",
       "      <td>2018-11-23 08:00:00</td>\n",
       "      <td>267.50000</td>\n",
       "      <td>ug m-3</td>\n",
       "      <td>P</td>\n",
       "      <td>3.136301</td>\n",
       "    </tr>\n",
       "    <tr>\n",
       "      <th>51658</th>\n",
       "      <td>CR5</td>\n",
       "      <td>NO</td>\n",
       "      <td>2018-11-23 10:00:00</td>\n",
       "      <td>263.00000</td>\n",
       "      <td>ug m-3</td>\n",
       "      <td>P</td>\n",
       "      <td>3.066923</td>\n",
       "    </tr>\n",
       "    <tr>\n",
       "      <th>51752</th>\n",
       "      <td>CR5</td>\n",
       "      <td>NO</td>\n",
       "      <td>2018-11-27 08:00:00</td>\n",
       "      <td>269.79999</td>\n",
       "      <td>ug m-3</td>\n",
       "      <td>P</td>\n",
       "      <td>3.171761</td>\n",
       "    </tr>\n",
       "  </tbody>\n",
       "</table>\n",
       "<p>752 rows × 7 columns</p>\n",
       "</div>"
      ],
      "text/plain": [
       "      Site Species     ReadingDateTime      Value   Units  \\\n",
       "199    CR5      NO 2013-09-01 07:00:00  281.50000  ug m-3   \n",
       "200    CR5      NO 2013-09-01 08:00:00  261.00000  ug m-3   \n",
       "204    CR5      NO 2013-09-01 12:00:00  263.39999  ug m-3   \n",
       "205    CR5      NO 2013-09-01 13:00:00  273.29999  ug m-3   \n",
       "209    CR5      NO 2013-09-01 17:00:00  262.60001  ug m-3   \n",
       "211    CR5      NO 2013-09-01 19:00:00  279.60001  ug m-3   \n",
       "212    CR5      NO 2013-09-01 20:00:00  289.39999  ug m-3   \n",
       "213    CR5      NO 2013-09-01 21:00:00  335.89999  ug m-3   \n",
       "214    CR5      NO 2013-09-01 22:00:00  314.00000  ug m-3   \n",
       "215    CR5      NO 2013-09-01 23:00:00  328.79999  ug m-3   \n",
       "223    CR5      NO 2013-10-01 07:00:00  305.79999  ug m-3   \n",
       "224    CR5      NO 2013-10-01 08:00:00  270.29999  ug m-3   \n",
       "246    CR5      NO 2013-11-01 06:00:00  260.79999  ug m-3   \n",
       "247    CR5      NO 2013-11-01 07:00:00  418.89999  ug m-3   \n",
       "248    CR5      NO 2013-11-01 08:00:00  306.50000  ug m-3   \n",
       "249    CR5      NO 2013-11-01 09:00:00  265.00000  ug m-3   \n",
       "252    CR5      NO 2013-11-01 12:00:00  307.00000  ug m-3   \n",
       "253    CR5      NO 2013-11-01 13:00:00  302.39999  ug m-3   \n",
       "254    CR5      NO 2013-11-01 14:00:00  343.50000  ug m-3   \n",
       "255    CR5      NO 2013-11-01 15:00:00  392.70001  ug m-3   \n",
       "256    CR5      NO 2013-11-01 16:00:00  386.70001  ug m-3   \n",
       "257    CR5      NO 2013-11-01 17:00:00  302.89999  ug m-3   \n",
       "258    CR5      NO 2013-11-01 18:00:00  305.70001  ug m-3   \n",
       "259    CR5      NO 2013-11-01 19:00:00  330.60001  ug m-3   \n",
       "260    CR5      NO 2013-11-01 20:00:00  307.29999  ug m-3   \n",
       "344    CR5      NO 2013-01-15 08:00:00  332.10001  ug m-3   \n",
       "367    CR5      NO 2013-01-16 07:00:00  362.00000  ug m-3   \n",
       "368    CR5      NO 2013-01-16 08:00:00  375.70001  ug m-3   \n",
       "369    CR5      NO 2013-01-16 09:00:00  293.50000  ug m-3   \n",
       "370    CR5      NO 2013-01-16 10:00:00  296.20001  ug m-3   \n",
       "...    ...     ...                 ...        ...     ...   \n",
       "43507  CR5      NO 2017-12-18 19:00:00  346.29999  ug m-3   \n",
       "43508  CR5      NO 2017-12-18 20:00:00  344.39999  ug m-3   \n",
       "43509  CR5      NO 2017-12-18 21:00:00  360.29999  ug m-3   \n",
       "43510  CR5      NO 2017-12-18 22:00:00  312.60001  ug m-3   \n",
       "43511  CR5      NO 2017-12-18 23:00:00  307.29999  ug m-3   \n",
       "43521  CR5      NO 2017-12-19 09:00:00  309.00000  ug m-3   \n",
       "43522  CR5      NO 2017-12-19 10:00:00  269.70001  ug m-3   \n",
       "44059  CR5      NO 2018-10-01 19:00:00  265.10001  ug m-3   \n",
       "44060  CR5      NO 2018-10-01 20:00:00  271.60001  ug m-3   \n",
       "44072  CR5      NO 2018-11-01 08:00:00  350.00000  ug m-3   \n",
       "44073  CR5      NO 2018-11-01 09:00:00  273.29999  ug m-3   \n",
       "44529  CR5      NO 2018-01-30 09:00:00  318.39999  ug m-3   \n",
       "45056  CR5      NO 2018-02-21 08:00:00  279.79999  ug m-3   \n",
       "45057  CR5      NO 2018-02-21 09:00:00  267.20001  ug m-3   \n",
       "45104  CR5      NO 2018-02-23 08:00:00  268.89999  ug m-3   \n",
       "51632  CR5      NO 2018-11-22 08:00:00  329.39999  ug m-3   \n",
       "51633  CR5      NO 2018-11-22 09:00:00  338.29999  ug m-3   \n",
       "51634  CR5      NO 2018-11-22 10:00:00  357.29999  ug m-3   \n",
       "51635  CR5      NO 2018-11-22 11:00:00  268.20001  ug m-3   \n",
       "51637  CR5      NO 2018-11-22 13:00:00  261.50000  ug m-3   \n",
       "51638  CR5      NO 2018-11-22 14:00:00  301.00000  ug m-3   \n",
       "51639  CR5      NO 2018-11-22 15:00:00  275.79999  ug m-3   \n",
       "51640  CR5      NO 2018-11-22 16:00:00  305.20001  ug m-3   \n",
       "51641  CR5      NO 2018-11-22 17:00:00  309.29999  ug m-3   \n",
       "51642  CR5      NO 2018-11-22 18:00:00  282.39999  ug m-3   \n",
       "51643  CR5      NO 2018-11-22 19:00:00  270.29999  ug m-3   \n",
       "51644  CR5      NO 2018-11-22 20:00:00  282.60001  ug m-3   \n",
       "51656  CR5      NO 2018-11-23 08:00:00  267.50000  ug m-3   \n",
       "51658  CR5      NO 2018-11-23 10:00:00  263.00000  ug m-3   \n",
       "51752  CR5      NO 2018-11-27 08:00:00  269.79999  ug m-3   \n",
       "\n",
       "      Provisional or Ratified   z_score  \n",
       "199                         R  3.352145  \n",
       "200                         R  3.036088  \n",
       "204                         R  3.073089  \n",
       "205                         R  3.225722  \n",
       "209                         R  3.060756  \n",
       "211                         R  3.322852  \n",
       "212                         R  3.473942  \n",
       "213                         R  4.190853  \n",
       "214                         R  3.853211  \n",
       "215                         R  4.081389  \n",
       "223                         R  3.726788  \n",
       "224                         R  3.179470  \n",
       "246                         R  3.033004  \n",
       "247                         R  5.470499  \n",
       "248                         R  3.737580  \n",
       "249                         R  3.097757  \n",
       "252                         R  3.745289  \n",
       "253                         R  3.674369  \n",
       "254                         R  4.308025  \n",
       "255                         R  5.066562  \n",
       "256                         R  4.974058  \n",
       "257                         R  3.682078  \n",
       "258                         R  3.725247  \n",
       "259                         R  4.109141  \n",
       "260                         R  3.749914  \n",
       "344                         R  4.132267  \n",
       "367                         R  4.593247  \n",
       "368                         R  4.804466  \n",
       "369                         R  3.537154  \n",
       "370                         R  3.578781  \n",
       "...                       ...       ...  \n",
       "43507                       R  4.351194  \n",
       "43508                       R  4.321901  \n",
       "43509                       R  4.567038  \n",
       "43510                       R  3.831627  \n",
       "43511                       R  3.749914  \n",
       "43521                       R  3.776124  \n",
       "43522                       R  3.170219  \n",
       "44059                       R  3.099299  \n",
       "44060                       R  3.199513  \n",
       "44072                       R  4.408238  \n",
       "44073                       R  3.225722  \n",
       "44529                       P  3.921048  \n",
       "45056                       P  3.325935  \n",
       "45057                       P  3.131676  \n",
       "45104                       P  3.157885  \n",
       "51632                       P  4.090639  \n",
       "51633                       P  4.227854  \n",
       "51634                       P  4.520785  \n",
       "51635                       P  3.147093  \n",
       "51637                       P  3.043796  \n",
       "51638                       P  3.652785  \n",
       "51639                       P  3.264265  \n",
       "51640                       P  3.717538  \n",
       "51641                       P  3.780749  \n",
       "51642                       P  3.366020  \n",
       "51643                       P  3.179470  \n",
       "51644                       P  3.369104  \n",
       "51656                       P  3.136301  \n",
       "51658                       P  3.066923  \n",
       "51752                       P  3.171761  \n",
       "\n",
       "[752 rows x 7 columns]"
      ]
     },
     "execution_count": 24,
     "metadata": {},
     "output_type": "execute_result"
    }
   ],
   "source": [
    "threshold_1=-3\n",
    "threshold_2=3\n",
    "df_outliers=df_dup[df_dup['z_score']>threshold_2]\n",
    "df_non_outliers=df_dup[df_dup['z_score']<=threshold_2]\n",
    "df_outliers\n",
    "#df_dup['z_score'].describe()"
   ]
  },
  {
   "cell_type": "code",
   "execution_count": 25,
   "metadata": {},
   "outputs": [
    {
     "data": {
      "text/plain": [
       "count    43676.000000\n",
       "mean        59.702127\n",
       "std         55.507928\n",
       "min         -7.900000\n",
       "25%         16.500000\n",
       "50%         40.000000\n",
       "75%         88.900000\n",
       "max        258.600010\n",
       "Name: Value, dtype: float64"
      ]
     },
     "execution_count": 25,
     "metadata": {},
     "output_type": "execute_result"
    }
   ],
   "source": [
    "df_non_outliers['Value'].describe()"
   ]
  }
 ],
 "metadata": {
  "kernelspec": {
   "display_name": "Python 3",
   "language": "python",
   "name": "python3"
  },
  "language_info": {
   "codemirror_mode": {
    "name": "ipython",
    "version": 3
   },
   "file_extension": ".py",
   "mimetype": "text/x-python",
   "name": "python",
   "nbconvert_exporter": "python",
   "pygments_lexer": "ipython3",
   "version": "3.6.5"
  }
 },
 "nbformat": 4,
 "nbformat_minor": 2
}
