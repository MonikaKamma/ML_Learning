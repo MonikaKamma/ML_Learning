{
 "cells": [
  {
   "cell_type": "code",
   "execution_count": 14,
   "metadata": {},
   "outputs": [
    {
     "name": "stdout",
     "output_type": "stream",
     "text": [
      "0.9733333333333334\n"
     ]
    }
   ],
   "source": [
    "from sklearn import datasets\n",
    "iris=datasets.load_iris()\n",
    "\n",
    "x=iris.data #x contains features\n",
    "y=iris.target #y contains labels\n",
    "\n",
    "#splitting the data into two for train and test\n",
    "\n",
    "from sklearn.model_selection import train_test_split\n",
    "x_train,x_test,y_train,y_test=train_test_split(x,y,test_size=0.5)\n",
    "\n",
    "#Calling a clssifier\n",
    "\n",
    "# Decision Tree Classifier\n",
    "\n",
    "#from sklearn import tree\n",
    "#my_classifier=tree.DecisionTreeClassifier()\n",
    "\n",
    "#K-Neighbour Classifier\n",
    "from sklearn import neighbors\n",
    "my_classifier=neighbors.KNeighborsClassifier()\n",
    "\n",
    "#Training the classifier\n",
    "my_classifier.fit(x_train,y_train)\n",
    "\n",
    "#Testing the classifier (predicting the required value)\n",
    "\n",
    "predictions=my_classifier.predict(x_test)\n",
    "#print(predictions)\n",
    "\n",
    "# To calculate the accuracy of the predictions using the actual labels of test data (in y_test)\n",
    "\n",
    "from sklearn.metrics import accuracy_score\n",
    "print(accuracy_score(y_test,predictions))\n"
   ]
  },
  {
   "cell_type": "code",
   "execution_count": 31,
   "metadata": {},
   "outputs": [
    {
     "name": "stdout",
     "output_type": "stream",
     "text": [
      "0.92\n"
     ]
    }
   ],
   "source": [
    "# Writing our own classifier ( a basic Kneighbor classifier)\n",
    "\n",
    "from scipy.spatial import distance\n",
    "def euc(a,b):\n",
    "    return distance.euclidean(a,b)\n",
    "\n",
    "class ScrappyKNN():\n",
    "    def fit(self,x_train,y_train):\n",
    "        self.x_train=x_train\n",
    "        self.y_train=y_train\n",
    "    def predict(self,x_test):\n",
    "        predictions=[]\n",
    "        for row in x_test:\n",
    "            label=self.closest(row)\n",
    "            predictions.append(label)\n",
    "        return predictions\n",
    "    def closest(self,row):\n",
    "        best_dist=euc(row,self.x_train[0])        \n",
    "        best_index=0\n",
    "        for i in range(1,len(self.x_train)):\n",
    "            dist=euc(row,self.x_train[i])\n",
    "            if dist<best_dist:\n",
    "                best_dis=dist\n",
    "                best_index=i\n",
    "        return self.y_train[best_index]\n",
    "\n",
    "from sklearn import datasets\n",
    "iris=datasets.load_iris()\n",
    "\n",
    "x=iris.data #x contains features\n",
    "y=iris.target #y contains labels\n",
    "\n",
    "#splitting the data into two for train and test\n",
    "\n",
    "from sklearn.model_selection import train_test_split\n",
    "x_train,x_test,y_train,y_test=train_test_split(x,y,test_size=0.5)\n",
    "\n",
    "#Calling a clssifier\n",
    "\n",
    "# Decision Tree Classifier\n",
    "\n",
    "#from sklearn import tree\n",
    "#my_classifier=tree.DecisionTreeClassifier()\n",
    "\n",
    "#K-Neighbour Classifier\n",
    "#from sklearn import neighbors\n",
    "my_classifier=ScrappyKNN()\n",
    "\n",
    "#Training the classifier\n",
    "my_classifier.fit(x_train,y_train)\n",
    "\n",
    "#Testing the classifier (predicting the required value)\n",
    "\n",
    "predictions=my_classifier.predict(x_test)\n",
    "#print(predictions)\n",
    "\n",
    "# To calculate the accuracy of the predictions using the actual labels of test data (in y_test)\n",
    "\n",
    "from sklearn.metrics import accuracy_score\n",
    "print(accuracy_score(y_test,predictions))\n"
   ]
  }
 ],
 "metadata": {
  "kernelspec": {
   "display_name": "Python 3",
   "language": "python",
   "name": "python3"
  },
  "language_info": {
   "codemirror_mode": {
    "name": "ipython",
    "version": 3
   },
   "file_extension": ".py",
   "mimetype": "text/x-python",
   "name": "python",
   "nbconvert_exporter": "python",
   "pygments_lexer": "ipython3",
   "version": "3.6.5"
  }
 },
 "nbformat": 4,
 "nbformat_minor": 2
}
