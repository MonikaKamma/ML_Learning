{
 "cells": [
  {
   "cell_type": "code",
   "execution_count": 15,
   "metadata": {},
   "outputs": [
    {
     "name": "stdout",
     "output_type": "stream",
     "text": [
      "Apple\n"
     ]
    }
   ],
   "source": [
    "#features -> bumpy=0 and smooth=1\n",
    "#labels -> Apple=0 and Orange=1\n",
    "#from sklearn import tree\n",
    "import sklearn\n",
    "features=[[140,1],[130,1],[150,0],[170,0]]\n",
    "labels=[0,0,1,1]\n",
    "clf=tree.DecisionTreeClassifier() #type of classifier\n",
    "clf=clf.fit(features,labels) #train the model\n",
    "result=(clf.predict([[150,0]])) #test the model\n",
    "if result==0:\n",
    "    print('Orange')\n",
    "else:\n",
    "    print('Apple')"
   ]
  },
  {
   "cell_type": "code",
   "execution_count": 3,
   "metadata": {},
   "outputs": [
    {
     "name": "stdout",
     "output_type": "stream",
     "text": [
      "<class 'sklearn.utils.Bunch'>\n",
      "[0 1 2]\n",
      "[0 1 2]\n"
     ]
    }
   ],
   "source": [
    "#How a Decision Tree Classifier looks like?\n",
    "# Using Iris flower sample dataset in scikit\n",
    "\n",
    "#Import dataset\n",
    "import numpy as np\n",
    "from sklearn.datasets import load_iris\n",
    "from sklearn import tree\n",
    "\n",
    "iris=load_iris()\n",
    "#data refers to features (values) and target refers to labels(values)\n",
    "#print(iris.feature_names)\n",
    "#print(iris.target_names)\n",
    "#print(iris.data[0])\n",
    "#print(iris.target)\n",
    "print(type(iris))\n",
    "\n",
    "test_index=[0,50,100]\n",
    "\n",
    "#training data\n",
    "\n",
    "train_target=np.delete(iris.target, test_index)\n",
    "train_data=np.delete(iris.data, test_index, axis=0)\n",
    "\n",
    "#testing data\n",
    "\n",
    "test_target=iris.target[test_index]\n",
    "test_data=iris.data[test_index]\n",
    "\n",
    "#train model\n",
    "\n",
    "clf=tree.DecisionTreeClassifier()\n",
    "clf=clf.fit(train_data,train_target)\n",
    "\n",
    "#test model\n",
    "\n",
    "print(test_target)\n",
    "print(clf.predict(test_data))\n",
    "\n",
    "#from sklearn.externals.six import StringIO\n",
    "#import pydot\n",
    "#dot_data = tree.export_graphviz(clf, out_file=None, \n",
    " #                        feature_names=iris.feature_names,  \n",
    "  #                       class_names=iris.target_names,  \n",
    "   ##                     special_characters=True)  \n",
    "#graph = pydot.graph_from_dot_data(dot_data.get_value())  \n",
    "#graph.write_pdf(\"iris.pdf\")"
   ]
  },
  {
   "cell_type": "code",
   "execution_count": null,
   "metadata": {},
   "outputs": [],
   "source": []
  }
 ],
 "metadata": {
  "kernelspec": {
   "display_name": "Python 3",
   "language": "python",
   "name": "python3"
  },
  "language_info": {
   "codemirror_mode": {
    "name": "ipython",
    "version": 3
   },
   "file_extension": ".py",
   "mimetype": "text/x-python",
   "name": "python",
   "nbconvert_exporter": "python",
   "pygments_lexer": "ipython3",
   "version": "3.6.5"
  }
 },
 "nbformat": 4,
 "nbformat_minor": 2
}
