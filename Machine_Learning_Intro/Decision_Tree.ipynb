{
 "cells": [
  {
   "cell_type": "markdown",
   "metadata": {},
   "source": [
    "The below code has been developed with reference from Josh Gordon's Machine Learning recepies video lectures"
   ]
  },
  {
   "cell_type": "code",
   "execution_count": 1,
   "metadata": {},
   "outputs": [],
   "source": [
    "def split_data(root,condition):\n",
    "    #true_rows=pd.DataFrame()\n",
    "    #false_rows=pd.DataFrame()\n",
    "    true_rows=root[condition]\n",
    "    false_rows=root[~condition]\n",
    "    #print(true_rows)\n",
    "    #print(false_rows)\n",
    "    return true_rows,false_rows"
   ]
  },
  {
   "cell_type": "code",
   "execution_count": 2,
   "metadata": {},
   "outputs": [],
   "source": [
    "def gini(root):\n",
    "    labels=root[root.columns.values[-1]]\n",
    "    labels_unique=labels.unique()\n",
    "    labels_counts=labels.value_counts()\n",
    "    impurity=1\n",
    "    for lbl in labels_unique:\n",
    "        p=labels_counts[lbl]/len(labels)\n",
    "        impurity=impurity-(p**2)\n",
    "    return impurity"
   ]
  },
  {
   "cell_type": "code",
   "execution_count": 3,
   "metadata": {},
   "outputs": [],
   "source": [
    "def calculate_gain(current_impurity,true_rows,false_rows):\n",
    "    p=float(len(true_rows))/float(len(true_rows)+len(false_rows))\n",
    "    gain=current_impurity-p*gini(true_rows)-(1-p)*gini(false_rows)\n",
    "    return gain"
   ]
  },
  {
   "cell_type": "code",
   "execution_count": 4,
   "metadata": {},
   "outputs": [],
   "source": [
    "def build_split_condition(root,val,root_column):\n",
    "    if val.isnumeric():\n",
    "        split_readable=root_column+'>='+val\n",
    "        split_condition=root[root_column]>=int(val)\n",
    "    else:\n",
    "        split_readable=root_column+'=='+val\n",
    "        split_condition=root[root_column]==val\n",
    "    return split_condition, split_readable            "
   ]
  },
  {
   "cell_type": "code",
   "execution_count": 5,
   "metadata": {},
   "outputs": [],
   "source": [
    "def select_best_split(root):\n",
    "    best_gain=0\n",
    "    root_columns=root.columns.values\n",
    "    features_len=len(root_columns)-1\n",
    "    rows_count=root.shape[0]\n",
    "    best_split=''\n",
    "    best_split_readable=''\n",
    "    #true_rows=pd.DataFrame()\n",
    "    #false_rows=pd.DataFrame()\n",
    "    current_impurity=gini(root)\n",
    "    for i in range(features_len):\n",
    "        for j in range(rows_count):\n",
    "            val=str(root.iloc[j,i])\n",
    "            split_condition, split_readable=build_split_condition(root,val,root_columns[i])\n",
    "            true_rows,false_rows=split_data(root,split_condition)\n",
    "            info_gain=calculate_gain(current_impurity,true_rows,false_rows)\n",
    "            if best_gain<info_gain:\n",
    "                best_gain=info_gain\n",
    "                best_split=split_condition\n",
    "                best_split_readable=split_readable      \n",
    "    return best_gain,best_split,best_split_readable"
   ]
  },
  {
   "cell_type": "code",
   "execution_count": 6,
   "metadata": {},
   "outputs": [],
   "source": [
    "class Leaf:\n",
    "    def __init__(self, rows):\n",
    "        self.predictions = pd.DataFrame(rows[rows.columns.values[-1]].value_counts())"
   ]
  },
  {
   "cell_type": "code",
   "execution_count": 7,
   "metadata": {},
   "outputs": [],
   "source": [
    "class node:\n",
    "    def __init__(self,\n",
    "                 question,\n",
    "                 true_branch,\n",
    "                 false_branch):\n",
    "        self.question = question\n",
    "        self.true_branch = true_branch\n",
    "        self.false_branch = false_branch"
   ]
  },
  {
   "cell_type": "code",
   "execution_count": 8,
   "metadata": {},
   "outputs": [],
   "source": [
    "def build_tree(root):\n",
    "    #split_true=pd.DataFrame()\n",
    "    #split_false=pd.DataFrame()\n",
    "    info_gain,split,split_readable=select_best_split(root)\n",
    "    #print(split_readable)\n",
    "    if info_gain==0:\n",
    "        return Leaf(root)\n",
    "    split_true, split_false=split_data(root,split)\n",
    "    #print(split_true)\n",
    "    #print(split_false)\n",
    "    true_branch=build_tree(split_true)\n",
    "    false_branch=build_tree(split_false)\n",
    "    return node (split_readable,true_branch,false_branch)"
   ]
  },
  {
   "cell_type": "code",
   "execution_count": 9,
   "metadata": {},
   "outputs": [],
   "source": [
    "def print_tree(node):\n",
    "    \n",
    "    if isinstance(node, Leaf):\n",
    "        print (\"Predict\", node.predictions)\n",
    "        return\n",
    "    \n",
    "    print (str(node.question))\n",
    "\n",
    "    print ('--> True:')\n",
    "    print_tree(node.true_branch)\n",
    "\n",
    "    print ('--> False:')\n",
    "    print_tree(node.false_branch)"
   ]
  },
  {
   "cell_type": "code",
   "execution_count": 10,
   "metadata": {},
   "outputs": [
    {
     "name": "stdout",
     "output_type": "stream",
     "text": [
      "    Color  Diameter   Fruit\n",
      "0  Yellow         3   Apple\n",
      "1  Yellow         3   Lemon\n",
      "2   Green         3   Apple\n",
      "3     Red         1  Grapes\n",
      "4     Red         1  Grapes\n",
      "5   Black         2   Jamun\n",
      "6   Black         2   Jamun\n",
      "TREE:\n",
      "Color==Red\n",
      "--> True:\n",
      "Predict         Fruit\n",
      "Grapes      2\n",
      "--> False:\n",
      "Color==Black\n",
      "--> True:\n",
      "Predict        Fruit\n",
      "Jamun      2\n",
      "--> False:\n",
      "Color==Yellow\n",
      "--> True:\n",
      "Predict        Fruit\n",
      "Lemon      1\n",
      "Apple      1\n",
      "--> False:\n",
      "Predict        Fruit\n",
      "Apple      1\n"
     ]
    }
   ],
   "source": [
    "import pandas as pd\n",
    "data=[['Yellow',3,'Apple'],['Yellow',3,'Lemon'],['Green',3,'Apple'],['Red',1,'Grapes'],['Red',1,'Grapes'],['Black',2,'Jamun'],['Black',2,'Jamun']]\n",
    "train=pd.DataFrame(data,columns=['Color','Diameter','Fruit'])\n",
    "print(train)\n",
    "tree=build_tree(train)\n",
    "\n",
    "#Print the Tree\n",
    "print(\"TREE:\")\n",
    "print_tree(tree)"
   ]
  }
 ],
 "metadata": {
  "kernelspec": {
   "display_name": "Python 3",
   "language": "python",
   "name": "python3"
  },
  "language_info": {
   "codemirror_mode": {
    "name": "ipython",
    "version": 3
   },
   "file_extension": ".py",
   "mimetype": "text/x-python",
   "name": "python",
   "nbconvert_exporter": "python",
   "pygments_lexer": "ipython3",
   "version": "3.6.5"
  }
 },
 "nbformat": 4,
 "nbformat_minor": 2
}
